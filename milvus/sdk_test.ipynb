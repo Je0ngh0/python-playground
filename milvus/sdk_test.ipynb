{
 "cells": [
  {
   "cell_type": "code",
   "execution_count": 3,
   "id": "48ae9b13",
   "metadata": {},
   "outputs": [],
   "source": [
    "from pymilvus import MilvusClient\n",
    "\n",
    "client = MilvusClient(\n",
    "    uri=\"http://localhost:19530\",\n",
    "    token=\"root:Milvus\"\n",
    ")"
   ]
  },
  {
   "cell_type": "code",
   "execution_count": null,
   "id": "44020fa8",
   "metadata": {},
   "outputs": [
    {
     "data": {
      "text/plain": [
       "['default']"
      ]
     },
     "execution_count": 4,
     "metadata": {},
     "output_type": "execute_result"
    }
   ],
   "source": [
    "client.list_databases()"
   ]
  },
  {
   "cell_type": "code",
   "execution_count": 18,
   "id": "71f5ab83",
   "metadata": {},
   "outputs": [
    {
     "data": {
      "text/plain": [
       "{'auto_id': True, 'description': '', 'fields': [{'name': 'my_id', 'description': '', 'type': <DataType.INT64: 5>, 'is_primary': True, 'auto_id': False}, {'name': 'my_vector', 'description': '', 'type': <DataType.FLOAT_VECTOR: 101>, 'params': {'dim': 5}}, {'name': 'my_varchar', 'description': '', 'type': <DataType.VARCHAR: 21>, 'params': {'max_length': 512}}], 'enable_dynamic_field': True}"
      ]
     },
     "execution_count": 18,
     "metadata": {},
     "output_type": "execute_result"
    }
   ],
   "source": [
    "from pymilvus import MilvusClient, DataType\n",
    "\n",
    "schema = MilvusClient.create_schema(\n",
    "    auto_id=True,\n",
    "    enable_dynamic_field=True,\n",
    ")\n",
    "\n",
    "schema.add_field(field_name=\"my_id\", datatype=DataType.INT64, is_primary=True)\n",
    "schema.add_field(field_name=\"my_vector\", datatype=DataType.FLOAT_VECTOR, dim=5)\n",
    "schema.add_field(field_name=\"my_varchar\", datatype=DataType.VARCHAR, max_length=512)\n"
   ]
  },
  {
   "cell_type": "code",
   "execution_count": 7,
   "id": "3d170e84",
   "metadata": {},
   "outputs": [
    {
     "name": "stdout",
     "output_type": "stream",
     "text": [
      "{'state': <LoadState: NotLoad>}\n"
     ]
    }
   ],
   "source": [
    "client.create_collection(\n",
    "    collection_name=\"customized_setup_1\",\n",
    "    schema=schema,\n",
    ")\n",
    "\n",
    "res = client.get_load_state(\n",
    "    collection_name=\"customized_setup_1\"\n",
    ")\n",
    "\n",
    "print(res)"
   ]
  },
  {
   "cell_type": "code",
   "execution_count": 8,
   "id": "274ea889",
   "metadata": {},
   "outputs": [],
   "source": [
    "client.create_database(\n",
    "    db_name=\"my_database_1\"\n",
    ")"
   ]
  },
  {
   "cell_type": "code",
   "execution_count": 15,
   "id": "d3a3aa16",
   "metadata": {},
   "outputs": [
    {
     "data": {
      "text/plain": [
       "['default', 'my_database_1']"
      ]
     },
     "execution_count": 15,
     "metadata": {},
     "output_type": "execute_result"
    }
   ],
   "source": [
    "client.list_databases()"
   ]
  },
  {
   "cell_type": "code",
   "execution_count": 10,
   "id": "f601bf8a",
   "metadata": {},
   "outputs": [
    {
     "name": "stdout",
     "output_type": "stream",
     "text": [
      "{'state': <LoadState: NotLoad>}\n"
     ]
    }
   ],
   "source": [
    "client.create_collection(\n",
    "    collection_name=\"customized_setup_2\",\n",
    "    schema=schema,\n",
    ")\n",
    "\n",
    "res = client.get_load_state(\n",
    "    collection_name=\"customized_setup_2\"\n",
    ")\n",
    "\n",
    "print(res)"
   ]
  },
  {
   "cell_type": "code",
   "execution_count": 16,
   "id": "5b737593",
   "metadata": {},
   "outputs": [],
   "source": [
    "client.use_database(\n",
    "    db_name=\"default\"\n",
    ")"
   ]
  },
  {
   "cell_type": "code",
   "execution_count": 19,
   "id": "bc9ee7f8",
   "metadata": {},
   "outputs": [
    {
     "name": "stdout",
     "output_type": "stream",
     "text": [
      "{'state': <LoadState: NotLoad>}\n"
     ]
    }
   ],
   "source": [
    "client.create_collection(\n",
    "    collection_name=\"customized_setup_4\",\n",
    "    schema=schema,\n",
    ")\n",
    "\n",
    "res = client.get_load_state(\n",
    "    collection_name=\"customized_setup_4\"\n",
    ")\n",
    "\n",
    "print(res)"
   ]
  },
  {
   "cell_type": "code",
   "execution_count": 20,
   "id": "bfeb4296",
   "metadata": {},
   "outputs": [],
   "source": [
    "index_params = client.prepare_index_params()\n",
    "\n",
    "index_params.add_index(\n",
    "    field_name=\"my_id\",\n",
    "    index_type=\"AUTOINDEX\"\n",
    ")\n",
    "\n",
    "index_params.add_index(\n",
    "    field_name=\"my_vector\", \n",
    "    index_type=\"AUTOINDEX\",\n",
    "    metric_type=\"COSINE\"\n",
    ")\n"
   ]
  },
  {
   "cell_type": "code",
   "execution_count": 21,
   "id": "c86fcea6",
   "metadata": {},
   "outputs": [
    {
     "name": "stdout",
     "output_type": "stream",
     "text": [
      "{'state': <LoadState: Loaded>}\n"
     ]
    }
   ],
   "source": [
    "client.create_collection(\n",
    "    collection_name=\"customized_setup_5\",\n",
    "    schema=schema,\n",
    "    index_params=index_params\n",
    ")\n",
    "\n",
    "res = client.get_load_state(\n",
    "    collection_name=\"customized_setup_5\"\n",
    ")\n",
    "\n",
    "print(res)\n",
    "\n"
   ]
  },
  {
   "cell_type": "code",
   "execution_count": 26,
   "id": "8ceaa775",
   "metadata": {},
   "outputs": [
    {
     "name": "stdout",
     "output_type": "stream",
     "text": [
      "{'state': <LoadState: Loaded>}\n"
     ]
    }
   ],
   "source": [
    "from pymilvus import MilvusClient\n",
    "\n",
    "client = MilvusClient(\n",
    "    uri=\"http://localhost:19530\",\n",
    "    token=\"root:Milvus\"\n",
    ")\n",
    "\n",
    "client.load_collection(\n",
    "    collection_name=\"customized_setup_5\"\n",
    ")\n",
    "\n",
    "res = client.get_load_state(\n",
    "    collection_name=\"customized_setup_5\"\n",
    ")\n",
    "\n",
    "print(res)\n",
    "\n"
   ]
  },
  {
   "cell_type": "code",
   "execution_count": 27,
   "id": "23921c03",
   "metadata": {},
   "outputs": [
    {
     "name": "stdout",
     "output_type": "stream",
     "text": [
      "{'state': <LoadState: NotLoad>}\n"
     ]
    }
   ],
   "source": [
    "# 8. Release the collection\n",
    "client.release_collection(\n",
    "    collection_name=\"customized_setup_5\"\n",
    ")\n",
    "\n",
    "res = client.get_load_state(\n",
    "    collection_name=\"customized_setup_5\"\n",
    ")\n",
    "\n",
    "print(res)"
   ]
  },
  {
   "cell_type": "code",
   "execution_count": 1,
   "id": "37e89595",
   "metadata": {},
   "outputs": [
    {
     "name": "stdout",
     "output_type": "stream",
     "text": [
      "Hello\n"
     ]
    }
   ],
   "source": [
    "print(\"Hello\")"
   ]
  },
  {
   "cell_type": "markdown",
   "id": "e3c43824",
   "metadata": {},
   "source": [
    "# ----------------------------------------------"
   ]
  },
  {
   "cell_type": "code",
   "execution_count": 26,
   "id": "617193f9",
   "metadata": {},
   "outputs": [
    {
     "name": "stdout",
     "output_type": "stream",
     "text": [
      "['default', 'my_database_1']\n"
     ]
    }
   ],
   "source": [
    "from pymilvus import MilvusClient\n",
    "\n",
    "client = MilvusClient(\n",
    "    uri=\"http://localhost:19530\",\n",
    "    token=\"root:Milvus\"\n",
    ")\n",
    "\n",
    "db_list = client.list_databases()\n",
    "print(db_list)"
   ]
  },
  {
   "cell_type": "code",
   "execution_count": 30,
   "id": "ce47ffa1",
   "metadata": {},
   "outputs": [
    {
     "name": "stdout",
     "output_type": "stream",
     "text": [
      "my_database_1\n"
     ]
    }
   ],
   "source": [
    "db_name = db_list[1]\n",
    "\n",
    "client.use_database(\n",
    "    db_name=db_name\n",
    ")\n",
    "print(db_name)"
   ]
  },
  {
   "cell_type": "code",
   "execution_count": 31,
   "id": "aa773810",
   "metadata": {},
   "outputs": [
    {
     "name": "stdout",
     "output_type": "stream",
     "text": [
      "['customized_setup_3']\n"
     ]
    }
   ],
   "source": [
    "collection_list = client.list_collections()\n",
    "print(collection_list)"
   ]
  },
  {
   "cell_type": "code",
   "execution_count": 32,
   "id": "d97cc450",
   "metadata": {},
   "outputs": [
    {
     "name": "stdout",
     "output_type": "stream",
     "text": [
      "customized_setup_3\n",
      "[]\n"
     ]
    }
   ],
   "source": [
    "collection_name = collection_list[0]\n",
    "\n",
    "client.drop_collection(\n",
    "    collection_name=collection_name\n",
    ")\n",
    "print(collection_name)\n",
    "\n",
    "collection_list = client.list_collections()\n",
    "\n",
    "print(collection_list)"
   ]
  }
 ],
 "metadata": {
  "kernelspec": {
   "display_name": "python-playground (3.12.11)",
   "language": "python",
   "name": "python3"
  },
  "language_info": {
   "codemirror_mode": {
    "name": "ipython",
    "version": 3
   },
   "file_extension": ".py",
   "mimetype": "text/x-python",
   "name": "python",
   "nbconvert_exporter": "python",
   "pygments_lexer": "ipython3",
   "version": "3.12.11"
  }
 },
 "nbformat": 4,
 "nbformat_minor": 5
}
